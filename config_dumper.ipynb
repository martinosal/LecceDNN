{
 "cells": [
  {
   "cell_type": "code",
   "execution_count": 1,
   "metadata": {},
   "outputs": [],
   "source": [
    "import os\n",
    "import re\n",
    "import numpy as np"
   ]
  },
  {
   "cell_type": "code",
   "execution_count": 4,
   "metadata": {},
   "outputs": [],
   "source": [
    "SAMPLE='TCC'\n",
    "\n",
    "SIGNAL=[]\n",
    "BKG=[]\n",
    "INPUT_FILE=[]\n",
    "dataType=[]\n",
    "\n",
    "modelPath='../Models/'\n",
    "rootBranchSubSample=['DSID', 'lep1_m', 'lep1_pt', 'lep1_eta', 'lep1_phi', 'lep2_m', 'lep2_pt', 'lep2_eta', 'lep2_phi', 'fatjet_m', 'fatjet_pt', 'fatjet_eta', 'fatjet_phi', 'fatjet_D2', 'NJets', 'weight', 'Zcand_m', 'Zcand_pt', 'Pass_MergHP_GGF_ZZ_Tag_SR', 'Pass_MergHP_GGF_ZZ_Untag_SR', 'Pass_MergLP_GGF_ZZ_Tag_SR', 'Pass_MergLP_GGF_ZZ_Untag_SR', 'Pass_MergHP_GGF_ZZ_Tag_ZCR', 'Pass_MergHP_GGF_ZZ_Untag_ZCR', 'Pass_MergLP_GGF_ZZ_Tag_ZCR', 'Pass_MergLP_GGF_ZZ_Untag_ZCR', 'Pass_isVBF', 'Wdijet_m', 'Wdijet_pt', 'Wdijet_eta', 'Wdijet_phi', 'Zdijet_m', 'Zdijet_pt', 'Zdijet_eta', 'Zdijet_phi', 'sigWJ1_m', 'sigWJ1_pt', 'sigWJ1_eta', 'sigWJ1_phi', 'sigWJ2_m', 'sigWJ2_pt', 'sigWJ2_eta', 'sigWJ2_phi', 'sigZJ1_m', 'sigZJ1_pt', 'sigZJ1_eta', 'sigZJ1_phi', 'sigZJ2_m', 'sigZJ2_pt', 'sigZJ2_eta', 'sigZJ2_phi']\n",
    "InputFeaturesMerged=['lep1_m', 'lep1_pt', 'lep1_eta', 'lep1_phi', 'lep2_m', 'lep2_pt', 'lep2_eta', 'lep2_phi', 'fatjet_m', 'fatjet_pt', 'fatjet_eta', 'fatjet_phi', 'fatjet_D2', 'NJets', 'Zcand_m', 'Zcand_pt', 'DSID']\n",
    "InputFeaturesResolved=['lep1_m', 'lep1_pt', 'lep1_eta', 'lep1_phi', 'lep2_m', 'lep2_pt', 'lep2_eta', 'lep2_phi', 'Zcand_m', 'Zcand_pt', 'Wdijet_m', 'Wdijet_pt', 'Wdijet_eta', 'Wdijet_phi', 'Zdijet_m', 'Zdijet_pt', 'Zdijet_eta', 'Zdijet_phi', 'sigWJ1_m', 'sigWJ1_pt', 'sigWJ1_eta', 'sigWJ1_phi', 'sigWJ2_m', 'sigWJ2_pt', 'sigWJ2_eta', 'sigWJ2_phi', 'sigZJ1_m', 'sigZJ1_pt', 'sigZJ1_eta', 'sigZJ1_phi', 'sigZJ2_m', 'sigZJ2_pt', 'sigZJ2_eta', 'sigZJ2_phi', 'NJets', 'DSID']\n",
    "\n",
    "if SAMPLE=='TCC':\n",
    "    dfPath='../DataFrames/TCC/'\n",
    "    PATH_signal='../Files/CxAODReader_output/out_ZV2Lep_TCC_EMTopo_SIGNAL/fetch/data-MVATree/'\n",
    "    PATH_bkg='../Files/CxAODReader_output/out_ZV2Lep_TCC_EMTopo_BKG/fetch/data-MVATree/'\n",
    "\n",
    "SIGNAL_files=os.listdir(PATH_signal)\n",
    "for file_str in SIGNAL_files:\n",
    "    obj_str=re.search('(.+?).root', file_str).group(1)\n",
    "    SIGNAL.append(obj_str)\n",
    "\n",
    "\n",
    "BKG_files=os.listdir(PATH_bkg)\n",
    "for file_str in BKG_files:\n",
    "    obj_str=re.search('(.+?).root', file_str).group(1)\n",
    "    if re.search('data(.+?)',obj_str)==None:\n",
    "        #print(re.search('data(.+?)',obj_str).group(0))\n",
    "        BKG.append(obj_str)\n",
    "        INPUT_FILE.append(obj_str)\n",
    "        dataType.append('bkg')\n"
   ]
  },
  {
   "cell_type": "code",
   "execution_count": 5,
   "metadata": {},
   "outputs": [
    {
     "data": {
      "text/plain": [
       "['VBFHVTWZ-1',\n",
       " 'Radion-0',\n",
       " 'VBFRSG-0',\n",
       " 'RSG-0',\n",
       " 'VBFHVTWZ-0',\n",
       " 'RSG-1',\n",
       " 'VBFRadion-0']"
      ]
     },
     "execution_count": 5,
     "metadata": {},
     "output_type": "execute_result"
    }
   ],
   "source": [
    "SIGNAL"
   ]
  },
  {
   "cell_type": "code",
   "execution_count": 6,
   "metadata": {},
   "outputs": [],
   "source": [
    "#mask=:2\n",
    "SIGNAL_np=np.array(SIGNAL)"
   ]
  },
  {
   "cell_type": "code",
   "execution_count": 7,
   "metadata": {},
   "outputs": [
    {
     "data": {
      "text/plain": [
       "array(['VBFHVTWZ-1', 'Radion-0', 'VBFRSG-0', 'RSG-0', 'VBFHVTWZ-0',\n",
       "       'RSG-1', 'VBFRadion-0'], dtype='<U11')"
      ]
     },
     "execution_count": 7,
     "metadata": {},
     "output_type": "execute_result"
    }
   ],
   "source": [
    "SIGNAL_np"
   ]
  },
  {
   "cell_type": "code",
   "execution_count": 8,
   "metadata": {},
   "outputs": [],
   "source": [
    "for signal in SIGNAL_np:\n",
    "    INPUT_FILE.append(signal)\n",
    "    dataType.append('sig')"
   ]
  },
  {
   "cell_type": "code",
   "execution_count": 9,
   "metadata": {},
   "outputs": [],
   "source": [
    "INPUT_PATH='../Files/INPUT/'\n",
    "if not(os.path.exists(INPUT_PATH)):\n",
    "    os.mkdir(INPUT_PATH)\n",
    "\n",
    "with open(\"MyConfig.txt\", \"w\") as text_file:\n",
    "    text_file.write('[config]\\n')\n",
    "    text_file.write(\"ntuplePath = %s\" % INPUT_PATH)\n",
    "    text_file.write('\\n')\n",
    "    text_file.write('dfPath = %s' % dfPath)\n",
    "    text_file.write('\\n')\n",
    "    text_file.write('modelPath = %s' % modelPath)\n",
    "    text_file.write('\\n')\n",
    "    text_file.write('inputFiles = %s' % INPUT_FILE)\n",
    "    text_file.write('\\n')\n",
    "    text_file.write('dataType   = %s' % dataType)\n",
    "    text_file.write('\\n')\n",
    "    text_file.write('rootBranchSubSample = %s' %rootBranchSubSample)\n",
    "    text_file.write('\\n')\n",
    "    text_file.write('InputFeaturesMerged = %s' %InputFeaturesMerged)\n",
    "    text_file.write('\\n')\n",
    "    text_file.write('InputFeaturesResolved = %s' %InputFeaturesResolved)\n",
    "    text_file.write('\\n')"
   ]
  },
  {
   "cell_type": "code",
   "execution_count": null,
   "metadata": {},
   "outputs": [],
   "source": []
  }
 ],
 "metadata": {
  "kernelspec": {
   "display_name": "Python 3",
   "language": "python",
   "name": "python3"
  },
  "language_info": {
   "codemirror_mode": {
    "name": "ipython",
    "version": 3
   },
   "file_extension": ".py",
   "mimetype": "text/x-python",
   "name": "python",
   "nbconvert_exporter": "python",
   "pygments_lexer": "ipython3",
   "version": "3.8.5"
  }
 },
 "nbformat": 4,
 "nbformat_minor": 4
}

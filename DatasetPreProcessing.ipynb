{
 "cells": [
  {
   "cell_type": "code",
   "execution_count": 1,
   "metadata": {},
   "outputs": [],
   "source": [
    "#import data_preprocess_functions as dp_f\n",
    "import argparse, configparser\n",
    "import re\n",
    "import ast\n",
    "import random\n",
    "\n",
    "import numpy as np\n",
    "import pandas as pd\n",
    "import matplotlib.pyplot as plt\n",
    "from matplotlib import gridspec\n",
    "import os\n",
    "\n",
    "from sklearn.preprocessing import RobustScaler\n",
    "from sklearn.preprocessing import StandardScaler\n",
    "from sklearn.model_selection import train_test_split\n",
    "from sklearn.utils import shuffle\n",
    "\n",
    "from tensorflow.keras.utils import to_categorical\n",
    "\n",
    "from tensorflow.keras import Model\n",
    "from tensorflow.keras import models\n",
    "from tensorflow.keras import layers\n",
    "from tensorflow.keras.models import Sequential"
   ]
  },
  {
   "cell_type": "code",
   "execution_count": 2,
   "metadata": {},
   "outputs": [
    {
     "name": "stderr",
     "output_type": "stream",
     "text": [
      "Using TensorFlow backend.\n"
     ]
    }
   ],
   "source": [
    "import makeplots as mkplots\n",
    "\n",
    "def find(str_jets,df):\n",
    "    n=0\n",
    "    for i in df['origin']==str_jets:\n",
    "        if i==True:\n",
    "            n+=1\n",
    "    return n\n",
    "    \n",
    "    \n",
    "\n",
    "def composition_plot(df,directory,signal,analysis,channel,PreselectionCuts):\n",
    "    x=np.array([])\n",
    "    samples=list(set(df['origin']))\n",
    "    for var in samples:\n",
    "        x=np.append(x,find(var,df))\n",
    "\n",
    "    plt.figure(1,figsize=(18,6))\n",
    "    plt.bar(samples,x)\n",
    "    #plt.text(3, 80, analysis+' '+channel , fontsize=12,horizontalalignment='center',verticalalignment='center')\n",
    "#    plt.suptitle(analysis+' '+channel+' composition')\n",
    "    plt.yscale('log')\n",
    "    plt.savefig(directory+'/'+signal+'_'+analysis+'_'+channel+'_'+PreselectionCuts+'_composition.pdf')\n",
    "#    plt.show()\n",
    "    return x,samples\n",
    "    "
   ]
  },
  {
   "cell_type": "code",
   "execution_count": 3,
   "metadata": {},
   "outputs": [],
   "source": [
    "analysis='merged'\n",
    "channel='ggF'\n",
    "PreselectionCuts=''\n",
    "samples=['Zjets','Wjets','stop','Diboson','ttbar','Radion','VBFRSG','RSG','VBFRadion','VBFHVTWZ']\n",
    "\n",
    "### Reading from config file\n",
    "config = configparser.ConfigParser()\n",
    "config.read('MyConfig.txt')\n",
    "inputFiles = ast.literal_eval(config.get('config', 'inputFiles'))\n",
    "dataType = ast.literal_eval(config.get('config', 'dataType'))\n",
    "rootBranchSubSample = ast.literal_eval(config.get('config', 'rootBranchSubSample'))\n",
    "dfPath = config.get('config', 'dfPath')\n",
    "\n",
    "#list of files under dfPath\n",
    "files=os.listdir(dfPath)\n",
    "#InputFeaturesResolved for 'resolved' analysis --> make it dyn\n",
    "if analysis == 'merged':\n",
    "    dataVariables = ast.literal_eval(config.get('config', 'InputFeaturesMerged'))\n",
    "elif analysis == 'resolved':\n",
    "    dataVariables = ast.literal_eval(config.get('config', 'InputFeaturesResolved'))\n",
    "\n",
    "#DSID must not be included in the configfile! #\n",
    "#It's important the order here ! \n",
    "dataVariables.append('isSignal')\n",
    "dataVariables.append('origin')\n",
    "dfPath = config.get('config', 'dfPath')"
   ]
  },
  {
   "cell_type": "code",
   "execution_count": 4,
   "metadata": {},
   "outputs": [
    {
     "data": {
      "text/plain": [
       "(['lep1_m',\n",
       "  'lep1_pt',\n",
       "  'lep1_eta',\n",
       "  'lep1_phi',\n",
       "  'lep2_m',\n",
       "  'lep2_pt',\n",
       "  'lep2_eta',\n",
       "  'lep2_phi',\n",
       "  'fatjet_m',\n",
       "  'fatjet_pt',\n",
       "  'fatjet_eta',\n",
       "  'fatjet_phi',\n",
       "  'fatjet_D2',\n",
       "  'NJets',\n",
       "  'Zcand_m',\n",
       "  'Zcand_pt',\n",
       "  'mass',\n",
       "  'isSignal',\n",
       "  'origin'],\n",
       " ['Zjets',\n",
       "  'Wjets',\n",
       "  'stop',\n",
       "  'Diboson',\n",
       "  'ttbar',\n",
       "  'Radion',\n",
       "  'VBFRSG',\n",
       "  'RSG',\n",
       "  'VBFRadion',\n",
       "  'VBFHVTWZ'])"
      ]
     },
     "execution_count": 4,
     "metadata": {},
     "output_type": "execute_result"
    }
   ],
   "source": [
    "dataVariables,samples"
   ]
  },
  {
   "cell_type": "code",
   "execution_count": 5,
   "metadata": {},
   "outputs": [],
   "source": [
    "#import pickle as pickle\n",
    "#with open(dfPath+'MixData_PD_'+analysis+'_'+channel+'_p4.pkl', \"rb\") as fh:\n",
    "#      mixed_data = pickle.load(fh)"
   ]
  },
  {
   "cell_type": "code",
   "execution_count": 6,
   "metadata": {},
   "outputs": [],
   "source": [
    "data=pd.read_pickle(dfPath+'MixData_PD_'+analysis+'_'+channel+'__p4.pkl')\n",
    "data=data[dataVariables]"
   ]
  },
  {
   "cell_type": "code",
   "execution_count": 39,
   "metadata": {},
   "outputs": [],
   "source": [
    "def LoadData(dfPath,file_name):\n",
    "    dfInput = dfPath + file_name\n",
    "    df = pd.read_pickle(dfInput)\n",
    "    columns=df.columns\n",
    "    X = df.values\n",
    "    y = np.array(df['isSignal'])\n",
    "    return X, y, columns, df"
   ]
  },
  {
   "cell_type": "code",
   "execution_count": 38,
   "metadata": {},
   "outputs": [
    {
     "name": "stdout",
     "output_type": "stream",
     "text": [
      "/nfs/kloe/einstein4/HDBS/NN_InputDataFrames/TCC_DataFrames/outDF/VBFHVTWZ_merged_ggF_/ already exists\n",
      "['Zjets', 'Wjets', 'stop', 'Diboson', 'ttbar', 'VBFHVTWZ']\n",
      "/nfs/kloe/einstein4/HDBS/NN_InputDataFrames/TCC_DataFrames/outDF/VBFHVTWZ_merged_ggF_/VBFHVTWZData_merged_ggF__p4.pkl saved\n",
      "/nfs/kloe/einstein4/HDBS/NN_InputDataFrames/TCC_DataFrames/outDF/VBFRadion_merged_ggF_/ already exists\n",
      "['Zjets', 'Wjets', 'stop', 'Diboson', 'ttbar', 'VBFRadion']\n",
      "/nfs/kloe/einstein4/HDBS/NN_InputDataFrames/TCC_DataFrames/outDF/VBFRadion_merged_ggF_/VBFRadionData_merged_ggF__p4.pkl saved\n",
      "/nfs/kloe/einstein4/HDBS/NN_InputDataFrames/TCC_DataFrames/outDF/RSG_merged_ggF_/ already exists\n",
      "['Zjets', 'Wjets', 'stop', 'Diboson', 'ttbar', 'RSG']\n",
      "/nfs/kloe/einstein4/HDBS/NN_InputDataFrames/TCC_DataFrames/outDF/RSG_merged_ggF_/RSGData_merged_ggF__p4.pkl saved\n",
      "/nfs/kloe/einstein4/HDBS/NN_InputDataFrames/TCC_DataFrames/outDF/VBFRSG_merged_ggF_/ already exists\n",
      "['Zjets', 'Wjets', 'stop', 'Diboson', 'ttbar', 'VBFRSG']\n",
      "/nfs/kloe/einstein4/HDBS/NN_InputDataFrames/TCC_DataFrames/outDF/VBFRSG_merged_ggF_/VBFRSGData_merged_ggF__p4.pkl saved\n",
      "/nfs/kloe/einstein4/HDBS/NN_InputDataFrames/TCC_DataFrames/outDF/Radion_merged_ggF_/ already exists\n",
      "['Zjets', 'Wjets', 'stop', 'Diboson', 'ttbar', 'Radion']\n",
      "/nfs/kloe/einstein4/HDBS/NN_InputDataFrames/TCC_DataFrames/outDF/Radion_merged_ggF_/RadionData_merged_ggF__p4.pkl saved\n"
     ]
    }
   ],
   "source": [
    "#select signal\n",
    "#import os\n",
    "\n",
    "\n",
    "for i in range(1,6):\n",
    "    signal=samples[-i]\n",
    "\n",
    "    outdir=dfPath+'outDF/'+str(signal)+'_'+analysis+'_'+channel+'_'+PreselectionCuts+'/'\n",
    "    if not os.path.isdir(outdir):\n",
    "        os.mkdir(outdir)\n",
    "        print('created: ',outdir)\n",
    "    else:\n",
    "        print(outdir,'already exists')\n",
    "        \n",
    "#    print(signal)\n",
    "    training_samples=samples[:5]\n",
    "    training_samples.append(signal)\n",
    "    print(training_samples)\n",
    "    q_string=''\n",
    "    for k in range(0,len(training_samples)):\n",
    "        q_string+='origin.str.match(\"'+training_samples[k]+'\") or '\n",
    "    q_string=q_string[:-4]\n",
    "#    print(q_string)\n",
    "    data_set=data.query(q_string, engine='python')\n",
    "#    data_set=data_set.drop('origin',1)\n",
    "    data_set.to_pickle(outdir+ signal+'Data_' + analysis + '_' + channel + '_' + PreselectionCuts+'_p4.pkl')\n",
    "    print(outdir+ signal+'Data_' + analysis + '_' + channel + '_' + PreselectionCuts+'_p4.pkl','saved')\n",
    "    #directory='outDF/'+signal+ '_' + analysis+ '_' + channel+ '_' + PreselectionCuts+'/'\n",
    "    "
   ]
  },
  {
   "cell_type": "code",
   "execution_count": 43,
   "metadata": {},
   "outputs": [
    {
     "name": "stdout",
     "output_type": "stream",
     "text": [
      "/nfs/kloe/einstein4/HDBS/NN_InputDataFrames/TCC_DataFrames/outDF/VBFHVTWZ_merged_ggF_/ already exists\n",
      "(array([4.13720e+04, 1.38900e+03, 1.47000e+02, 9.60000e+01, 4.28101e+05,\n",
      "       5.05900e+04]), ['Diboson', 'ttbar', 'Wjets', 'stop', 'Zjets', 'VBFHVTWZ'])\n",
      "train:  1.0859461066766088e-15 1.000000000000931\n",
      "test:  3.514026074731974e-05 1.0036363468441143\n",
      "/nfs/kloe/einstein4/HDBS/NN_InputDataFrames/TCC_DataFrames/outDF/VBFRadion_merged_ggF_/ already exists\n",
      "(array([4.13720e+04, 1.38900e+03, 1.47000e+02, 9.60000e+01, 6.57720e+04,\n",
      "       4.28101e+05]), ['Diboson', 'ttbar', 'Wjets', 'stop', 'VBFRadion', 'Zjets'])\n",
      "train:  3.4837113231105595e-16 0.9999999999999828\n",
      "test:  -0.00038065536151042227 0.9886645305875095\n",
      "/nfs/kloe/einstein4/HDBS/NN_InputDataFrames/TCC_DataFrames/outDF/RSG_merged_ggF_/ already exists\n",
      "(array([4.13720e+04, 1.38900e+03, 8.44690e+04, 1.47000e+02, 9.60000e+01,\n",
      "       4.28101e+05]), ['Diboson', 'ttbar', 'RSG', 'Wjets', 'stop', 'Zjets'])\n",
      "train:  -8.898014652596385e-16 0.9999999999968695\n",
      "test:  0.0009869338602038575 0.9995676217606361\n",
      "/nfs/kloe/einstein4/HDBS/NN_InputDataFrames/TCC_DataFrames/outDF/VBFRSG_merged_ggF_/ already exists\n",
      "(array([4.13720e+04, 1.38900e+03, 4.24870e+04, 1.47000e+02, 9.60000e+01,\n",
      "       4.28101e+05]), ['Diboson', 'ttbar', 'VBFRSG', 'Wjets', 'stop', 'Zjets'])\n",
      "train:  7.024041086985239e-17 0.9999999999996569\n",
      "test:  -0.0006259631466623901 1.4699361590586997\n",
      "/nfs/kloe/einstein4/HDBS/NN_InputDataFrames/TCC_DataFrames/outDF/Radion_merged_ggF_/ already exists\n",
      "(array([4.13720e+04, 1.38900e+03, 1.25747e+05, 1.47000e+02, 9.60000e+01,\n",
      "       4.28101e+05]), ['Diboson', 'ttbar', 'Radion', 'Wjets', 'stop', 'Zjets'])\n",
      "train:  -1.0912575202800823e-15 1.0000000000023916\n",
      "test:  -0.001138187759213779 0.9954022132439386\n"
     ]
    },
    {
     "data": {
      "image/png": "[encoded data removed]",
      "text/plain": [
       "<Figure size 1296x432 with 1 Axes>"
      ]
     },
     "metadata": {
      "needs_background": "light"
     },
     "output_type": "display_data"
    }
   ],
   "source": [
    "for i in range(1,6):\n",
    "    \n",
    "    signal=samples[-i]\n",
    "    outdir=dfPath+'outDF/'+str(signal)+'_'+analysis+'_'+channel+'_'+PreselectionCuts+'/'\n",
    "    if not os.path.isdir(outdir):\n",
    "        os.mkdir(outdir)\n",
    "        print('created: ',outdir)\n",
    "    else:\n",
    "        print(outdir,'already exists')\n",
    "\n",
    "    signal=samples[-i]\n",
    "\n",
    "    file_name=signal+'Data_' + analysis + '_' + channel + '_' + PreselectionCuts+'_p4.pkl'\n",
    "    X,y,columns,df=LoadData(outdir, file_name)\n",
    "    composition=composition_plot(df, outdir, signal, analysis, channel, PreselectionCuts)\n",
    "    print(composition)\n",
    "\n",
    "    \n",
    "    test_frac=0.2\n",
    "    #X, y = shuffle(X, y, random_state=0)\n",
    "    X_train, X_test, y_train, y_test = train_test_split(X, y, test_size=test_frac)\n",
    "\n",
    "\n",
    "    #masses=np.sort(np.array(list(set(list(X_train[:,-3].flatten())))))\n",
    "    #print(masses)\n",
    "\n",
    "    #scaler_train = RobustScaler().fit(X_train[:,:-1])\n",
    "    scaler_train = StandardScaler().fit(X_train[:,:-2])\n",
    "    X_train_scaled=np.array(scaler_train.transform(X_train[:,:-2]), dtype=object)\n",
    "    X_test_scaled=np.array(scaler_train.transform(X_test[:,:-2]), dtype=object)\n",
    "\n",
    "    y_train_cat=to_categorical(y_train)\n",
    "    y_test_cat=to_categorical(y_test)\n",
    "\n",
    "    print('train: ',X_train_scaled.mean(),X_train_scaled.std())\n",
    "    print('test: ',X_test_scaled.mean(),X_test_scaled.std())\n",
    "\n",
    "    X_train_scaled_m=np.insert(X_train_scaled, X_train_scaled.shape[1], X_train[:,-2], axis=1)\n",
    "    X_test_scaled_m=np.insert(X_test_scaled, X_test_scaled.shape[1], X_test[:,-2], axis=1)\n",
    "\n",
    "\n",
    "    np.savetxt(outdir+\"X_train.csv\",X_train,delimiter=',',fmt='%s')\n",
    "    np.savetxt(outdir+\"X_train_scaled.csv\",X_train_scaled,delimiter=',')\n",
    "    np.savetxt(outdir+\"X_train_scaled_m.csv\",X_train_scaled_m,delimiter=',',fmt='%s')\n",
    "    np.savetxt(outdir+\"X_test.csv\",X_test,delimiter=',',fmt='%s')\n",
    "    np.savetxt(outdir+\"X_test_scaled.csv\",X_test_scaled,delimiter=',')\n",
    "    np.savetxt(outdir+\"X_test_scaled_m.csv\",X_test_scaled_m,delimiter=',',fmt='%s')\n",
    "    np.savetxt(outdir+\"y_train.csv\",y_train,delimiter=',')\n",
    "    np.savetxt(outdir+\"y_train_cat.csv\",y_train_cat,delimiter=',')\n",
    "    np.savetxt(outdir+\"y_test.csv\",y_test,delimiter=',')\n",
    "    np.savetxt(outdir+\"y_test_cat.csv\",y_test_cat,delimiter=',')"
   ]
  },
  {
   "cell_type": "code",
   "execution_count": 45,
   "metadata": {},
   "outputs": [],
   "source": [
    "X_train_scaled_Radion=np.genfromtxt('/nfs/kloe/einstein4/HDBS/NN_InputDataFrames/TCC_DataFrames/outDF/Radion_merged_ggF_/X_train_scaled.csv', delimiter=',')\n",
    "X_test_scaled_Radion=np.genfromtxt('/nfs/kloe/einstein4/HDBS/NN_InputDataFrames/TCC_DataFrames/outDF/Radion_merged_ggF_/X_test_scaled.csv', delimiter=',')"
   ]
  },
  {
   "cell_type": "code",
   "execution_count": 47,
   "metadata": {},
   "outputs": [
    {
     "data": {
      "text/plain": [
       "array([[ True,  True,  True, ...,  True,  True,  True],\n",
       "       [ True,  True,  True, ...,  True,  True,  True],\n",
       "       [ True,  True,  True, ...,  True,  True,  True],\n",
       "       ...,\n",
       "       [ True,  True,  True, ...,  True,  True,  True],\n",
       "       [ True,  True,  True, ...,  True,  True,  True],\n",
       "       [ True,  True,  True, ...,  True,  True,  True]])"
      ]
     },
     "execution_count": 47,
     "metadata": {},
     "output_type": "execute_result"
    }
   ],
   "source": [
    "X_train_scaled_Radion==X_train_scaled"
   ]
  },
  {
   "cell_type": "code",
   "execution_count": 48,
   "metadata": {},
   "outputs": [],
   "source": [
    "X_train_scaled_VBFRSG=np.genfromtxt('/nfs/kloe/einstein4/HDBS/NN_InputDataFrames/TCC_DataFrames/outDF/VBFRSG_merged_ggF_/X_train_scaled.csv', delimiter=',')\n",
    "X_test_scaled_VBFRSG=np.genfromtxt('/nfs/kloe/einstein4/HDBS/NN_InputDataFrames/TCC_DataFrames/outDF/VBFRSG_merged_ggF_/X_test_scaled.csv', delimiter=',')"
   ]
  },
  {
   "cell_type": "code",
   "execution_count": 49,
   "metadata": {},
   "outputs": [
    {
     "data": {
      "text/plain": [
       "(4.976862437430879e-17, 1.0000000000000628)"
      ]
     },
     "execution_count": 49,
     "metadata": {},
     "output_type": "execute_result"
    }
   ],
   "source": [
    "X_train_scaled_VBFRSG.mean(),X_train_scaled_VBFRSG.std()\n"
   ]
  },
  {
   "cell_type": "code",
   "execution_count": 50,
   "metadata": {},
   "outputs": [
    {
     "data": {
      "text/plain": [
       "(-0.0006259631466625452, 1.4699361590611484)"
      ]
     },
     "execution_count": 50,
     "metadata": {},
     "output_type": "execute_result"
    }
   ],
   "source": [
    "X_test_scaled_VBFRSG.mean(),X_test_scaled_VBFRSG.std()"
   ]
  },
  {
   "cell_type": "code",
   "execution_count": null,
   "metadata": {},
   "outputs": [],
   "source": []
  },
  {
   "cell_type": "code",
   "execution_count": 217,
   "metadata": {},
   "outputs": [
    {
     "name": "stdout",
     "output_type": "stream",
     "text": [
      "1.0\n",
      "9800\n",
      "0.01641948087633115\n",
      "[0.3   0.28  0.1   0.3   0.015 0.005]\n",
      "[2940, 2744, 980, 2940, 147, 49]\n"
     ]
    },
    {
     "data": {
      "image/png": "[encoded data removed]",
      "text/plain": [
       "<Figure size 1296x432 with 1 Axes>"
      ]
     },
     "metadata": {
      "needs_background": "light"
     },
     "output_type": "display_data"
    }
   ],
   "source": [
    "q_v=[0.3,0.28,0.10,0.3,0.015]\n",
    "q_v.append(1-sum(q_v))\n",
    "q=np.array(q_v)\n",
    "print(np.sum(q))\n",
    "\n",
    "\n",
    "N_entries=sum(composition[0])\n",
    "p=np.array(composition[0]/N_entries)\n",
    "\n",
    "N_v=p[np.argsort(p)]/q[np.argsort(p)]\n",
    "N_v=N_v[np.argsort(N_v)]\n",
    "N_prime_tot=int(N_entries*N_v[0])\n",
    "composition_q=[int(q[n]*N_prime_tot) for n in range(0,len(p))]\n",
    "\n",
    "q=np.array(composition_q)/N_prime_tot\n",
    "if (composition_q<=N_entries).all():\n",
    "#    print('True')\n",
    "    print(N_prime_tot)\n",
    "    print(N_prime_tot/N_entries)\n",
    "    print(q)\n",
    "    print(composition_q)\n",
    "\n",
    "training_samples=list(set(df['origin']))\n",
    "reweighted_df=pd.concat(df.query('origin.str.match(\"'+training_samples[k]+'\")').sample(frac=1)[:composition_q[k]] for k in range(0,len(training_samples)))\n",
    "reweighted_df_composition=composition_plot(reweighted_df)\n",
    "#reweighted_df.to_pickle(outdir+ signal + 'Data_' + analysis + '_' + channel + '_' + PreselectionCuts+'_reweighted_dataset.pkl')"
   ]
  },
  {
   "cell_type": "code",
   "execution_count": 338,
   "metadata": {},
   "outputs": [
    {
     "data": {
      "text/plain": [
       "Index(['lep1_m', 'lep1_pt', 'lep1_eta', 'lep1_phi', 'lep2_m', 'lep2_pt',\n",
       "       'lep2_eta', 'lep2_phi', 'fatjet_m', 'fatjet_pt', 'fatjet_eta',\n",
       "       'fatjet_phi', 'fatjet_D2', 'NJets', 'Zcand_m', 'Zcand_pt', 'mass',\n",
       "       'isSignal', 'origin'],\n",
       "      dtype='object')"
      ]
     },
     "execution_count": 338,
     "metadata": {},
     "output_type": "execute_result"
    }
   ],
   "source": [
    "columns"
   ]
  },
  {
   "cell_type": "code",
   "execution_count": null,
   "metadata": {},
   "outputs": [],
   "source": []
  },
  {
   "cell_type": "code",
   "execution_count": 28,
   "metadata": {},
   "outputs": [],
   "source": []
  },
  {
   "cell_type": "code",
   "execution_count": null,
   "metadata": {},
   "outputs": [],
   "source": []
  },
  {
   "cell_type": "code",
   "execution_count": null,
   "metadata": {},
   "outputs": [],
   "source": []
  }
 ],
 "metadata": {
  "kernelspec": {
   "display_name": "MLpykernel",
   "language": "python",
   "name": "mlpykernel"
  },
  "language_info": {
   "codemirror_mode": {
    "name": "ipython",
    "version": 3
   },
   "file_extension": ".py",
   "mimetype": "text/x-python",
   "name": "python",
   "nbconvert_exporter": "python",
   "pygments_lexer": "ipython3",
   "version": "3.7.3"
  }
 },
 "nbformat": 4,
 "nbformat_minor": 4
}

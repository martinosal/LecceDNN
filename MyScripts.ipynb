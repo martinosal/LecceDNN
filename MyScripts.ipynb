{
 "cells": [
  {
   "cell_type": "code",
   "execution_count": 18,
   "metadata": {},
   "outputs": [],
   "source": [
    "import matplotlib.pyplot as plt\n",
    "import configparser\n",
    "import re\n",
    "import ast\n",
    "from colorama import init, Fore\n",
    "from Functions import checkCreateDir, ShufflingData\n",
    "import pandas as pd\n",
    "import numpy as np"
   ]
  },
  {
   "cell_type": "code",
   "execution_count": 10,
   "metadata": {},
   "outputs": [
    {
     "name": "stdout",
     "output_type": "stream",
     "text": [
      "Output directory: ../DataFrames/  (already there)\n"
     ]
    }
   ],
   "source": [
    "### Reading from config file\n",
    "config = configparser.ConfigParser()\n",
    "config.read('MyConfig.txt')\n",
    "inputFiles = ast.literal_eval(config.get('config', 'inputFiles'))\n",
    "dataType = ast.literal_eval(config.get('config', 'dataType'))\n",
    "rootBranchSubSample = ast.literal_eval(config.get('config', 'rootBranchSubSample'))\n",
    "dfPath = config.get('config', 'dfPath')\n",
    "print (format('Output directory: ' + Fore.GREEN + dfPath), checkCreateDir(dfPath))\n"
   ]
  },
  {
   "cell_type": "code",
   "execution_count": 36,
   "metadata": {},
   "outputs": [],
   "source": [
    "analysis='resolved'\n",
    "channel='ggF'\n",
    "PreselectionCuts=''"
   ]
  },
  {
   "cell_type": "code",
   "execution_count": 37,
   "metadata": {},
   "outputs": [],
   "source": [
    "def find(str_jets):\n",
    "    n=0\n",
    "    for i in df['origin']==str_jets:\n",
    "        if i==True:\n",
    "            n+=1\n",
    "    return n"
   ]
  },
  {
   "cell_type": "code",
   "execution_count": 38,
   "metadata": {},
   "outputs": [],
   "source": [
    "df=pd.read_pickle(dfPath + 'MixData_PD_' + analysis + '_' + channel + '.pkl')"
   ]
  },
  {
   "cell_type": "code",
   "execution_count": null,
   "metadata": {},
   "outputs": [],
   "source": [
    "#my_mask = df[\"origin\"].str.contains('W')\n",
    "#df.query(\"@my_mask\")"
   ]
  },
  {
   "cell_type": "code",
   "execution_count": 40,
   "metadata": {},
   "outputs": [],
   "source": [
    "samples=['Zjets','Wjets','stop','Diboson','ttbar','Radion','VBFRSG','RSG','VBFRadion','VBFHVTWZ']\n",
    "\n",
    "x=np.array([])\n",
    "for var in samples:\n",
    "    x=np.append(x,find(var))"
   ]
  },
  {
   "cell_type": "code",
   "execution_count": 41,
   "metadata": {},
   "outputs": [
    {
     "data": {
      "image/png": "[encoded data removed]",
      "text/plain": [
       "<Figure size 1296x432 with 1 Axes>"
      ]
     },
     "metadata": {
      "needs_background": "light"
     },
     "output_type": "display_data"
    }
   ],
   "source": [
    "plt.figure(1,figsize=(18,6))\n",
    "plt.bar(samples,x)\n",
    "#plt.text(3, 80, analysis+' '+channel , fontsize=12,horizontalalignment='center',verticalalignment='center')\n",
    "plt.suptitle(analysis+' '+channel+' composition')\n",
    "plt.yscale('log')\n",
    "plt.show()"
   ]
  },
  {
   "cell_type": "code",
   "execution_count": null,
   "metadata": {},
   "outputs": [],
   "source": []
  },
  {
   "cell_type": "code",
   "execution_count": null,
   "metadata": {},
   "outputs": [],
   "source": []
  },
  {
   "cell_type": "code",
   "execution_count": null,
   "metadata": {},
   "outputs": [],
   "source": []
  },
  {
   "cell_type": "code",
   "execution_count": null,
   "metadata": {},
   "outputs": [],
   "source": []
  }
 ],
 "metadata": {
  "kernelspec": {
   "display_name": "Python 3",
   "language": "python",
   "name": "python3"
  },
  "language_info": {
   "codemirror_mode": {
    "name": "ipython",
    "version": 3
   },
   "file_extension": ".py",
   "mimetype": "text/x-python",
   "name": "python",
   "nbconvert_exporter": "python",
   "pygments_lexer": "ipython3",
   "version": "3.8.5"
  }
 },
 "nbformat": 4,
 "nbformat_minor": 4
}
